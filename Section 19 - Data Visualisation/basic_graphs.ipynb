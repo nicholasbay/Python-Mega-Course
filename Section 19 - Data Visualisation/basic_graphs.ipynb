{
 "cells": [
  {
   "cell_type": "markdown",
   "metadata": {},
   "source": [
    "# Basic Bokeh Graphs\n"
   ]
  },
  {
   "cell_type": "code",
   "execution_count": 8,
   "metadata": {},
   "outputs": [],
   "source": [
    "# Importing Bokeh\n",
    "from bokeh.plotting import figure\n",
    "from bokeh.io import output_file, show"
   ]
  },
  {
   "cell_type": "code",
   "execution_count": 4,
   "metadata": {},
   "outputs": [],
   "source": [
    "# Line graph\n",
    "# Preparing data\n",
    "x = [1,2,3,4,5]\n",
    "y = [6,7,8,9,10]\n",
    "\n",
    "# Preparing output file\n",
    "output_file('line_graph.html')\n",
    "\n",
    "# Creating figure object\n",
    "fg = figure()\n",
    "\n",
    "# Creating line plot\n",
    "fg.line(x, y)\n",
    "\n",
    "# Showing line plot\n",
    "show(fg)"
   ]
  },
  {
   "cell_type": "code",
   "execution_count": 13,
   "metadata": {},
   "outputs": [],
   "source": [
    "# Triangle\n",
    "# Preparing data\n",
    "x = [3,6,9]\n",
    "y = [3,6,9]\n",
    "\n",
    "# Preparing output file\n",
    "output_file('triangle.html')\n",
    "\n",
    "# Creating figure object\n",
    "fg1 = figure()\n",
    "\n",
    "# Creating triangle plot\n",
    "fg1.triangle(x, y)\n",
    "\n",
    "# Showing triangle plot\n",
    "show(fg1)"
   ]
  },
  {
   "cell_type": "code",
   "execution_count": null,
   "metadata": {},
   "outputs": [],
   "source": [
    "# Circle\n",
    "# Preparing data\n",
    "x = [3,6,9]\n",
    "y = [3,6,9]\n",
    "\n",
    "# Preparing output file\n",
    "output_file('circle.html')\n",
    "\n",
    "# Creating figure object\n",
    "fg2 = figure()\n",
    "\n",
    "# Creating circle plot\n",
    "fg2.circle(x, y)\n",
    "\n",
    "# Showing circle plot\n",
    "show(fg2)"
   ]
  }
 ],
 "metadata": {
  "kernelspec": {
   "display_name": "base",
   "language": "python",
   "name": "python3"
  },
  "language_info": {
   "codemirror_mode": {
    "name": "ipython",
    "version": 3
   },
   "file_extension": ".py",
   "mimetype": "text/x-python",
   "name": "python",
   "nbconvert_exporter": "python",
   "pygments_lexer": "ipython3",
   "version": "3.9.13"
  }
 },
 "nbformat": 4,
 "nbformat_minor": 2
}
